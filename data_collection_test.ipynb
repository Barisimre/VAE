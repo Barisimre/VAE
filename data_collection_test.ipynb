{
 "cells": [
  {
   "cell_type": "code",
   "execution_count": 1,
   "metadata": {},
   "outputs": [],
   "source": [
    "import numpy as np\n",
    "import torch"
   ]
  },
  {
   "cell_type": "code",
   "execution_count": 2,
   "metadata": {},
   "outputs": [],
   "source": [
    "import gym"
   ]
  },
  {
   "cell_type": "code",
   "execution_count": 3,
   "metadata": {},
   "outputs": [],
   "source": [
    "env = gym.make(\"InvertedPendulum-v2\")"
   ]
  },
  {
   "cell_type": "code",
   "execution_count": 4,
   "metadata": {},
   "outputs": [
    {
     "data": {
      "text/plain": [
       "array([-0.00101211,  0.00081362,  0.00170734,  0.0062294 ])"
      ]
     },
     "execution_count": 4,
     "metadata": {},
     "output_type": "execute_result"
    }
   ],
   "source": [
    "env.reset()"
   ]
  },
  {
   "cell_type": "code",
   "execution_count": 5,
   "metadata": {},
   "outputs": [],
   "source": [
    "a = env.action_space.sample()"
   ]
  },
  {
   "cell_type": "code",
   "execution_count": 6,
   "metadata": {},
   "outputs": [
    {
     "data": {
      "text/plain": [
       "array([-0.0160772 ,  0.03655668, -0.75253633,  1.761529  ])"
      ]
     },
     "execution_count": 6,
     "metadata": {},
     "output_type": "execute_result"
    }
   ],
   "source": [
    "state, _, _, _ = env.step(a) \n",
    "state"
   ]
  },
  {
   "cell_type": "code",
   "execution_count": 7,
   "metadata": {},
   "outputs": [
    {
     "data": {
      "text/plain": [
       "array([-1.7503828], dtype=float32)"
      ]
     },
     "execution_count": 7,
     "metadata": {},
     "output_type": "execute_result"
    }
   ],
   "source": [
    "action = env.action_space.sample()\n",
    "next_state, reward, done, _ = env.step(action)\n",
    "action"
   ]
  },
  {
   "cell_type": "code",
   "execution_count": 8,
   "metadata": {},
   "outputs": [
    {
     "name": "stdout",
     "output_type": "stream",
     "text": [
      "state low, high: (array([-inf, -inf, -inf, -inf]), array([inf, inf, inf, inf]))  action low, high: (-3.0, 3.0)\n"
     ]
    }
   ],
   "source": [
    "state_dim = env.observation_space.shape[0]\n",
    "action_dim = env.action_space.shape[0] \n",
    "action_low = env.action_space.low[0]\n",
    "action_high = env.action_space.high[0]\n",
    "state_low = env.observation_space.low\n",
    "state_high = env.observation_space.high\n",
    "\n",
    "max_action = float(action_high)\n",
    "print(f\"state low, high: {state_low, state_high}  action low, high: {action_low, action_high}\")"
   ]
  },
  {
   "cell_type": "code",
   "execution_count": null,
   "metadata": {},
   "outputs": [],
   "source": []
  },
  {
   "cell_type": "code",
   "execution_count": 23,
   "metadata": {},
   "outputs": [],
   "source": [
    "def normalize_action(x):\n",
    "    return (x-action_low)/(action_high-action_low)\n",
    "\n",
    "# TODO find a way to scale this\n",
    "def normalize_state(s):\n",
    "    return s\n",
    "def normalize_reward(r):\n",
    "    return np.array([r/20.0])\n"
   ]
  },
  {
   "cell_type": "code",
   "execution_count": 25,
   "metadata": {},
   "outputs": [
    {
     "data": {
      "text/plain": [
       "array([-0.0160772 ,  0.03655668, -0.75253633,  1.761529  ,  0.20826954,\n",
       "       -0.05876967,  0.13533287, -1.38006406,  3.17047549,  0.05      ,\n",
       "        0.        ])"
      ]
     },
     "execution_count": 25,
     "metadata": {},
     "output_type": "execute_result"
    }
   ],
   "source": [
    "# data = torch.Tensor(np.concatenate((state, action, next_state, np.array([reward]), np.array([done]))))     \n",
    "data = np.concatenate((normalize_state(state), normalize_action(action), normalize_state(next_state), normalize_reward(reward), np.array([done])))\n",
    "# normalize_state(state)\n",
    "data"
   ]
  },
  {
   "cell_type": "code",
   "execution_count": 31,
   "metadata": {},
   "outputs": [
    {
     "data": {
      "text/plain": [
       "[array([-0.0160772 ,  0.03655668, -0.75253633,  1.761529  ,  0.20826954,\n",
       "        -0.05876967,  0.13533287, -1.38006406,  3.17047549,  0.05      ,\n",
       "         0.        ]),\n",
       " array([-0.0160772 ,  0.03655668, -0.75253633,  1.761529  ,  0.20826954,\n",
       "        -0.05876967,  0.13533287, -1.38006406,  3.17047549,  0.05      ,\n",
       "         0.        ]),\n",
       " array([-0.0160772 ,  0.03655668, -0.75253633,  1.761529  ,  0.20826954,\n",
       "        -0.05876967,  0.13533287, -1.38006406,  3.17047549,  0.05      ,\n",
       "         0.        ])]"
      ]
     },
     "execution_count": 31,
     "metadata": {},
     "output_type": "execute_result"
    }
   ],
   "source": [
    "datas = [data, data, data]\n",
    "datas"
   ]
  },
  {
   "cell_type": "code",
   "execution_count": 29,
   "metadata": {},
   "outputs": [
    {
     "data": {
      "text/plain": [
       "tensor([[-0.0161,  0.0366, -0.7525,  1.7615,  0.2083, -0.0588,  0.1353, -1.3801,\n",
       "          3.1705,  0.0500,  0.0000],\n",
       "        [-0.0161,  0.0366, -0.7525,  1.7615,  0.2083, -0.0588,  0.1353, -1.3801,\n",
       "          3.1705,  0.0500,  0.0000],\n",
       "        [-0.0161,  0.0366, -0.7525,  1.7615,  0.2083, -0.0588,  0.1353, -1.3801,\n",
       "          3.1705,  0.0500,  0.0000]])"
      ]
     },
     "execution_count": 29,
     "metadata": {},
     "output_type": "execute_result"
    }
   ],
   "source": [
    "d = np.array([i for i in datas])"
   ]
  },
  {
   "cell_type": "code",
   "execution_count": 32,
   "metadata": {},
   "outputs": [
    {
     "data": {
      "text/plain": [
       "array([-0.0160772 ,  0.03655668, -0.75253633,  1.761529  ,  0.20826954,\n",
       "       -0.05876967,  0.13533287, -1.38006406,  3.17047549,  0.05      ,\n",
       "        0.        ])"
      ]
     },
     "execution_count": 32,
     "metadata": {},
     "output_type": "execute_result"
    }
   ],
   "source": [
    "d[0]"
   ]
  },
  {
   "cell_type": "code",
   "execution_count": 46,
   "metadata": {},
   "outputs": [],
   "source": [
    "# Save data\n",
    "def save_data():\n",
    "    res = []\n",
    "    for da in datas:\n",
    "        res.append(da)\n",
    "    print(res)\n",
    "    np.save(\"env.npy\", res)\n",
    "\n",
    "    "
   ]
  },
  {
   "cell_type": "code",
   "execution_count": 47,
   "metadata": {},
   "outputs": [
    {
     "name": "stdout",
     "output_type": "stream",
     "text": [
      "[array([-0.0160772 ,  0.03655668, -0.75253633,  1.761529  ,  0.20826954,\n",
      "       -0.05876967,  0.13533287, -1.38006406,  3.17047549,  0.05      ,\n",
      "        0.        ]), array([-0.0160772 ,  0.03655668, -0.75253633,  1.761529  ,  0.20826954,\n",
      "       -0.05876967,  0.13533287, -1.38006406,  3.17047549,  0.05      ,\n",
      "        0.        ]), array([-0.0160772 ,  0.03655668, -0.75253633,  1.761529  ,  0.20826954,\n",
      "       -0.05876967,  0.13533287, -1.38006406,  3.17047549,  0.05      ,\n",
      "        0.        ])]\n"
     ]
    }
   ],
   "source": [
    "save_data()"
   ]
  },
  {
   "cell_type": "code",
   "execution_count": 48,
   "metadata": {},
   "outputs": [
    {
     "data": {
      "text/plain": [
       "array([[-0.0160772 ,  0.03655668, -0.75253633,  1.761529  ,  0.20826954,\n",
       "        -0.05876967,  0.13533287, -1.38006406,  3.17047549,  0.05      ,\n",
       "         0.        ],\n",
       "       [-0.0160772 ,  0.03655668, -0.75253633,  1.761529  ,  0.20826954,\n",
       "        -0.05876967,  0.13533287, -1.38006406,  3.17047549,  0.05      ,\n",
       "         0.        ],\n",
       "       [-0.0160772 ,  0.03655668, -0.75253633,  1.761529  ,  0.20826954,\n",
       "        -0.05876967,  0.13533287, -1.38006406,  3.17047549,  0.05      ,\n",
       "         0.        ]])"
      ]
     },
     "execution_count": 48,
     "metadata": {},
     "output_type": "execute_result"
    }
   ],
   "source": [
    "saved = np.load(\"env.npy\", allow_pickle=True)\n",
    "saved"
   ]
  },
  {
   "cell_type": "code",
   "execution_count": 49,
   "metadata": {},
   "outputs": [],
   "source": [
    "x = torch.Tensor(saved)"
   ]
  },
  {
   "cell_type": "code",
   "execution_count": 50,
   "metadata": {},
   "outputs": [
    {
     "data": {
      "text/plain": [
       "tensor([[-0.0161,  0.0366, -0.7525,  1.7615,  0.2083, -0.0588,  0.1353, -1.3801,\n",
       "          3.1705,  0.0500,  0.0000],\n",
       "        [-0.0161,  0.0366, -0.7525,  1.7615,  0.2083, -0.0588,  0.1353, -1.3801,\n",
       "          3.1705,  0.0500,  0.0000],\n",
       "        [-0.0161,  0.0366, -0.7525,  1.7615,  0.2083, -0.0588,  0.1353, -1.3801,\n",
       "          3.1705,  0.0500,  0.0000]])"
      ]
     },
     "execution_count": 50,
     "metadata": {},
     "output_type": "execute_result"
    }
   ],
   "source": [
    "x"
   ]
  },
  {
   "cell_type": "code",
   "execution_count": 51,
   "metadata": {},
   "outputs": [
    {
     "data": {
      "text/plain": [
       "tensor([-0.0161,  0.0366, -0.7525,  1.7615,  0.2083, -0.0588,  0.1353, -1.3801,\n",
       "         3.1705,  0.0500,  0.0000])"
      ]
     },
     "execution_count": 51,
     "metadata": {},
     "output_type": "execute_result"
    }
   ],
   "source": [
    "x[0]"
   ]
  },
  {
   "cell_type": "code",
   "execution_count": 55,
   "metadata": {},
   "outputs": [
    {
     "ename": "AttributeError",
     "evalue": "'InvertedPendulumEnv' object has no attribute 'state'",
     "output_type": "error",
     "traceback": [
      "\u001b[0;31m---------------------------------------------------------------------------\u001b[0m",
      "\u001b[0;31mAttributeError\u001b[0m                            Traceback (most recent call last)",
      "\u001b[0;32m<ipython-input-55-4a831535b825>\u001b[0m in \u001b[0;36m<module>\u001b[0;34m\u001b[0m\n\u001b[0;32m----> 1\u001b[0;31m \u001b[0menv\u001b[0m\u001b[0;34m.\u001b[0m\u001b[0menv\u001b[0m\u001b[0;34m.\u001b[0m\u001b[0mstate\u001b[0m\u001b[0;34m\u001b[0m\u001b[0;34m\u001b[0m\u001b[0m\n\u001b[0m",
      "\u001b[0;31mAttributeError\u001b[0m: 'InvertedPendulumEnv' object has no attribute 'state'"
     ]
    }
   ],
   "source": [
    "env.env.state"
   ]
  },
  {
   "cell_type": "code",
   "execution_count": null,
   "metadata": {},
   "outputs": [],
   "source": []
  }
 ],
 "metadata": {
  "kernelspec": {
   "display_name": "Python 3",
   "language": "python",
   "name": "python3"
  },
  "language_info": {
   "codemirror_mode": {
    "name": "ipython",
    "version": 3
   },
   "file_extension": ".py",
   "mimetype": "text/x-python",
   "name": "python",
   "nbconvert_exporter": "python",
   "pygments_lexer": "ipython3",
   "version": "3.8.6"
  }
 },
 "nbformat": 4,
 "nbformat_minor": 4
}
